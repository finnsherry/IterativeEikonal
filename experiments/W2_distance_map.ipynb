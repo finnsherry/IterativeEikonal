{
 "cells": [
  {
   "cell_type": "markdown",
   "metadata": {},
   "source": [
    "# $\\mathbb{W}_2$ Distance Map\n",
    "In this notebook we the compute distance map in $\\mathbb{W}_2$ with the $\\mathbb{R}^2$ and $\\mathbb{M}_2$ cost functions, corresponding to Figure 4b and 4d in [\"Crossing-Preserving Geodesic Tracking on Spherical Images\"](https://arxiv.org/abs/2504.03388v1)."
   ]
  },
  {
   "cell_type": "code",
   "execution_count": null,
   "metadata": {},
   "outputs": [],
   "source": [
    "import numpy as np\n",
    "import taichi as ti\n",
    "ti.init(arch=ti.gpu, debug=False, device_memory_GB=3.5) # Use less than the VRAM on your device as to not mix RAM and VRAM\n",
    "import eikivp\n",
    "from eikivp.R2.vesselness import import_vesselness as import_vesselness_R2\n",
    "from eikivp.M2.vesselness import import_vesselness as import_vesselness_M2\n",
    "from eikivp.utils import cost_function\n",
    "from eikivp.W2.costfunction import cost\n",
    "from eikivp.W2.plus.distancemap import export_W\n",
    "from copy import deepcopy"
   ]
  },
  {
   "cell_type": "markdown",
   "metadata": {},
   "source": [
    "## Parameters"
   ]
  },
  {
   "cell_type": "code",
   "execution_count": 2,
   "metadata": {},
   "outputs": [],
   "source": [
    "cost_domain = \"R2\"\n",
    "image_name = \"E46_OD_best\"\n",
    "image_file_name = f\"data\\{image_name}.tif\"\n",
    "match cost_domain:\n",
    "    case \"M2\":\n",
    "        σ_s_list = np.array((0.5**3, 0.5)) # np.array((1.5, 2.))\n",
    "        σ_o = 0.5 * 0.75**2\n",
    "        σ_s_ext = 1.\n",
    "        σ_o_ext = 0.01\n",
    "        V_params = {\n",
    "            \"σ_s_list\": σ_s_list,\n",
    "            \"σ_o\": σ_o,\n",
    "            \"σ_s_ext\": σ_s_ext,\n",
    "            \"σ_o_ext\": σ_o_ext,\n",
    "            \"image_name\": image_name \n",
    "        }\n",
    "        V = import_vesselness_M2(V_params, \"storage\\\\vesselness\")\n",
    "        dim_I, dim_J, dim_K = V.shape\n",
    "    case \"R2\":\n",
    "        dim_K = 32\n",
    "        scales = np.array((0.125, 0.5), dtype=float)\n",
    "        α = 0.5/np.sqrt(2)\n",
    "        γ = 3/4\n",
    "        ε = np.sqrt(0.2)\n",
    "        V_params = {\n",
    "            \"scales\": scales,\n",
    "            \"α\": α,\n",
    "            \"γ\": γ,\n",
    "            \"ε\": ε,\n",
    "            \"image_name\": image_name \n",
    "        }\n",
    "        V = import_vesselness_R2(V_params, \"storage\\\\vesselness\")\n",
    "        dim_I, dim_J = V.shape\n",
    "        V = np.array(dim_K * [V]).transpose(1, 2, 0)"
   ]
  },
  {
   "cell_type": "code",
   "execution_count": 3,
   "metadata": {},
   "outputs": [],
   "source": [
    "Is, Js, Ks = np.indices((dim_I, dim_J, dim_K))\n",
    "a = 13 / 21\n",
    "α_min, α_max = -0.837758, 0.837758\n",
    "β_min, β_max = -0.962727, 0.962727\n",
    "φ_min, φ_max = 0, 2 * np.pi\n",
    "dα = (α_max - α_min) / (dim_I - 1)\n",
    "dβ = (β_max - β_min) / (dim_J - 1)\n",
    "dφ = (φ_max - φ_min) / dim_K\n",
    "Is, Js, Ks = np.indices((dim_I, dim_J, dim_K))\n",
    "αs, βs, φs = eikivp.W2.utils.coordinate_array_to_real(Is, Js, Ks, α_min, β_min, φ_min, dα, dβ, dφ)\n",
    "\n",
    "a = 13 / 21\n",
    "c = np.cos(np.pi/3)\n",
    "x_min, x_max = -0.866025, 0.866025\n",
    "y_min, y_max = -0.866025, 0.866025\n",
    "θ_min, θ_max = 0., 2 * np.pi\n",
    "dxy = (x_max - x_min) / (dim_I - 1)\n",
    "dθ = (θ_max - θ_min) / dim_K"
   ]
  },
  {
   "cell_type": "code",
   "execution_count": 4,
   "metadata": {},
   "outputs": [],
   "source": [
    "λ = 500\n",
    "p = 2\n",
    "ξ = 6.\n",
    "source_point_real = (0.177528, 0.159588, 2.37002)\n",
    "source_point = eikivp.W2.utils.coordinate_real_to_array(*source_point_real, α_min, β_min, φ_min, dα, dβ, dφ)\n",
    "W_params = deepcopy(V_params)\n",
    "W_params[\"λ\"] = λ\n",
    "W_params[\"p\"] = p\n",
    "W_params[\"ξ\"] = ξ\n",
    "W_params[\"source_point\"] = source_point\n",
    "W_params[\"target_point\"] = \"default\"\n",
    "W_params[\"cost_domain\"] = cost_domain"
   ]
  },
  {
   "cell_type": "code",
   "execution_count": 5,
   "metadata": {},
   "outputs": [],
   "source": [
    "target_point_real = (-0.721357, 0.218753, 2.65495)\n",
    "target_point = eikivp.W2.utils.coordinate_real_to_array(*target_point_real, α_min, β_min, φ_min, dα, dβ, dφ)"
   ]
  },
  {
   "cell_type": "code",
   "execution_count": 6,
   "metadata": {},
   "outputs": [],
   "source": [
    "C_M2 = cost_function(V, λ, p)\n",
    "C = cost(C_M2, αs, βs, φs, a, c, x_min, y_min, θ_min, dxy, dθ)"
   ]
  },
  {
   "cell_type": "code",
   "execution_count": null,
   "metadata": {},
   "outputs": [],
   "source": [
    "fig, ax, _ = eikivp.visualisations.plot_image_array_W2(C.min(-1), α_min, α_max, β_min, β_max)\n",
    "ax.scatter(*source_point_real[1::-1], label=\"Source\")\n",
    "ax.arrow(*source_point_real[1::-1], 0.1 * np.sin(φs[source_point]), 0.1 * np.cos(φs[source_point]), width=0.01)\n",
    "ax.scatter(*target_point_real[1::-1], label=\"Target\")\n",
    "ax.arrow(*target_point_real[1::-1], 0.1 * np.sin(φs[target_point]), 0.1 * np.cos(φs[target_point]), width=0.01)\n",
    "ax.legend();"
   ]
  },
  {
   "cell_type": "markdown",
   "metadata": {},
   "source": [
    "## Compute Distance Map"
   ]
  },
  {
   "cell_type": "code",
   "execution_count": null,
   "metadata": {},
   "outputs": [],
   "source": [
    "W, grad_W = eikivp.eikonal_solver_W2_plus(C, source_point, ξ, dα, dβ, dφ, αs, φs, target_point=target_point, n_max=1e4, n_max_initialisation=1e4, n_check=2e3, n_check_initialisation=2e3, tol=1e-3, initial_condition=200.)"
   ]
  },
  {
   "cell_type": "code",
   "execution_count": null,
   "metadata": {},
   "outputs": [],
   "source": [
    "fig, ax, _ = eikivp.visualisations.plot_image_array_W2(C.min(-1), α_min, α_max, β_min, β_max, figsize=(12, 10))\n",
    "max_distance = W[target_point] * 2.5\n",
    "_, _, contour = eikivp.visualisations.plot_contour_W2(W.min(-1), αs[..., 0], βs[..., 0], fig=fig, ax=ax, levels=np.linspace(0., max_distance, 5))\n",
    "ax.scatter(*source_point_real[1::-1], label=\"Source\")\n",
    "ax.scatter(*target_point_real[1::-1], label=\"Target\")\n",
    "ax.set_aspect(\"equal\")\n",
    "fig.colorbar(contour, label=\"$\\\\min_φ W(α, β, φ)$\")\n",
    "ax.legend();"
   ]
  },
  {
   "cell_type": "code",
   "execution_count": 10,
   "metadata": {},
   "outputs": [],
   "source": [
    "export_W(W, grad_W, W_params, \"storage\\\\distance\")"
   ]
  }
 ],
 "metadata": {
  "kernelspec": {
   "display_name": "eikivp",
   "language": "python",
   "name": "python3"
  },
  "language_info": {
   "codemirror_mode": {
    "name": "ipython",
    "version": 3
   },
   "file_extension": ".py",
   "mimetype": "text/x-python",
   "name": "python",
   "nbconvert_exporter": "python",
   "pygments_lexer": "ipython3",
   "version": "3.10.13"
  }
 },
 "nbformat": 4,
 "nbformat_minor": 2
}
