{
 "cells": [
  {
   "cell_type": "markdown",
   "metadata": {},
   "source": [
    "# $\\mathbb{M}_2$ Geodesics\n",
    "In this notebook we perform backtracking on the distance map in $\\mathbb{M}_2$ with the $\\mathbb{M}_2$ cost function, corresponding to Figure 4c in [\"Crossing-Preserving Geodesic Tracking on Spherical Images\"]()."
   ]
  },
  {
   "cell_type": "code",
   "execution_count": null,
   "metadata": {},
   "outputs": [],
   "source": [
    "import numpy as np\n",
    "import taichi as ti\n",
    "ti.init(arch=ti.cpu, debug=False)\n",
    "import eikivp\n",
    "from eikivp.M2.vesselness import import_vesselness\n",
    "from eikivp.utils import cost_function\n",
    "from eikivp.M2.plus.distancemap import import_W\n",
    "from eikivp.M2.plus.backtracking import export_γ_path\n",
    "from copy import deepcopy"
   ]
  },
  {
   "cell_type": "markdown",
   "metadata": {},
   "source": [
    "## Parameters"
   ]
  },
  {
   "cell_type": "code",
   "execution_count": 2,
   "metadata": {},
   "outputs": [],
   "source": [
    "σ_s_list = np.array((0.5**3, 0.5)) # np.array((1.5, 2.))\n",
    "σ_o = 0.5 * 0.75**2\n",
    "σ_s_ext = 1.\n",
    "σ_o_ext = 0.01\n",
    "image_name = \"E46_OD_best\"\n",
    "image_file_name = f\"data\\{image_name}.tif\"\n",
    "V_params = {\n",
    "    \"σ_s_list\": σ_s_list,\n",
    "    \"σ_o\": σ_o,\n",
    "    \"σ_s_ext\": σ_s_ext,\n",
    "    \"σ_o_ext\": σ_o_ext,\n",
    "    \"image_name\": image_name \n",
    "}"
   ]
  },
  {
   "cell_type": "code",
   "execution_count": 3,
   "metadata": {},
   "outputs": [],
   "source": [
    "V = import_vesselness(V_params, \"storage\\\\vesselness\")\n",
    "dim_I, dim_J, dim_K = V.shape"
   ]
  },
  {
   "cell_type": "code",
   "execution_count": 4,
   "metadata": {},
   "outputs": [],
   "source": [
    "Is, Js, Ks = np.indices((dim_I, dim_J, dim_K))\n",
    "a = 13 / 21\n",
    "c = np.cos(np.pi/3)\n",
    "x_min, x_max = -0.866, 0.866\n",
    "y_min, y_max = -0.866, 0.866\n",
    "θ_min, θ_max = 0., 2 * np.pi\n",
    "dxy = (x_max - x_min) / (dim_I - 1)\n",
    "dθ = (θ_max - θ_min) / dim_K\n",
    "xs, ys, θs = eikivp.M2.utils.coordinate_array_to_real(Is, Js, Ks, x_min, y_min, θ_min, dxy, dθ)"
   ]
  },
  {
   "cell_type": "code",
   "execution_count": 5,
   "metadata": {},
   "outputs": [],
   "source": [
    "λ = 500\n",
    "p = 2\n",
    "ξ = 4.\n",
    "source_point_real_W2 = (0.177528, 0.159588, 2.37002)\n",
    "source_point_real = eikivp.W2.utils.Π_forward_np(*source_point_real_W2, a, c)\n",
    "source_point = eikivp.M2.utils.coordinate_real_to_array(*source_point_real, x_min, y_min, θ_min, dxy, dθ)\n",
    "W_params = deepcopy(V_params)\n",
    "W_params[\"λ\"] = λ\n",
    "W_params[\"p\"] = p\n",
    "W_params[\"ξ\"] = ξ\n",
    "W_params[\"source_point\"] = source_point\n",
    "W_params[\"target_point\"] = \"default\"\n",
    "W_params[\"cost_domain\"] = \"M2\""
   ]
  },
  {
   "cell_type": "code",
   "execution_count": 6,
   "metadata": {},
   "outputs": [],
   "source": [
    "W, grad_W = import_W(W_params, \"storage\\\\distance\")"
   ]
  },
  {
   "cell_type": "code",
   "execution_count": 7,
   "metadata": {},
   "outputs": [],
   "source": [
    "dt = 1.\n",
    "n_max = 2000\n",
    "γ_params = deepcopy(W_params)\n",
    "γ_params[\"dt\"] = \"default\""
   ]
  },
  {
   "cell_type": "code",
   "execution_count": 8,
   "metadata": {},
   "outputs": [],
   "source": [
    "C = cost_function(V, λ, p)"
   ]
  },
  {
   "cell_type": "code",
   "execution_count": 9,
   "metadata": {},
   "outputs": [],
   "source": [
    "target_points_real_W2 = (\n",
    "    (-0.591632, -0.603346, -1.9271),\n",
    "    (-0.766089, -0.388914, 2.40272),\n",
    "    (-0.500171, -0.560669, -2.8694),\n",
    "    (-0.721357, 0.218753, 2.65495),\n",
    "    (-0.721357, 0.218753, 0),\n",
    ")\n",
    "target_points_real = tuple(eikivp.W2.utils.Π_forward_np(*t, a, c) for t in target_points_real_W2)\n",
    "target_points = tuple(eikivp.M2.utils.coordinate_real_to_array(*t, x_min, y_min, θ_min, dxy, dθ) for t in target_points_real)"
   ]
  },
  {
   "cell_type": "markdown",
   "metadata": {},
   "source": [
    "## Compute Geodesics"
   ]
  },
  {
   "cell_type": "code",
   "execution_count": null,
   "metadata": {},
   "outputs": [],
   "source": [
    "γs = []\n",
    "for target_point in target_points:\n",
    "    γ = eikivp.geodesic_back_tracking_M2_plus(grad_W, source_point, target_point, C, x_min, y_min, θ_min, dxy, dθ, θs, ξ, dt=dt, n_max=n_max)\n",
    "    γ_params[\"target_point\"] = target_point\n",
    "    export_γ_path(γ, γ_params, \"storage\\\\path\")\n",
    "    γs.append(γ)"
   ]
  },
  {
   "cell_type": "code",
   "execution_count": null,
   "metadata": {},
   "outputs": [],
   "source": [
    "max_distance = W[target_points[0]] * 2.5\n",
    "fig, ax, _ = eikivp.visualisations.plot_image_array(C.min(-1), x_min, x_max, y_min, y_max)\n",
    "_, _, contour = eikivp.visualisations.plot_contour(W.min(-1), xs[..., 0], ys[..., 0], levels=np.linspace(0., max_distance, 5), fig=fig, ax=ax)\n",
    "ax.scatter(*source_point_real[:-1], label=\"Source\")\n",
    "for i, γ in enumerate(γs):\n",
    "    ax.plot(γ[:, 0], γ[:, 1], label=f\"Geodesic {i}\")\n",
    "    ax.scatter(*target_points_real[i][:-1], label=f\"Target {i}\")\n",
    "ax.legend()\n",
    "fig.colorbar(contour, label=\"$W(x, y)$\");"
   ]
  }
 ],
 "metadata": {
  "kernelspec": {
   "display_name": "eikivp",
   "language": "python",
   "name": "python3"
  },
  "language_info": {
   "codemirror_mode": {
    "name": "ipython",
    "version": 3
   },
   "file_extension": ".py",
   "mimetype": "text/x-python",
   "name": "python",
   "nbconvert_exporter": "python",
   "pygments_lexer": "ipython3",
   "version": "3.10.13"
  }
 },
 "nbformat": 4,
 "nbformat_minor": 2
}
