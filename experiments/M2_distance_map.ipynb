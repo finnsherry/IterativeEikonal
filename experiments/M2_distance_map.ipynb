{
 "cells": [
  {
   "cell_type": "markdown",
   "metadata": {},
   "source": [
    "# $\\mathbb{M}_2$ Distance Map\n",
    "In this notebook we the compute distance map in $\\mathbb{M}_2$ with the $\\mathbb{M}_2$ cost function, corresponding to Figure 4c in [\"Crossing-Preserving Geodesic Tracking on Spherical Images\"](https://arxiv.org/abs/2504.03388v1)."
   ]
  },
  {
   "cell_type": "code",
   "execution_count": null,
   "metadata": {},
   "outputs": [],
   "source": [
    "import numpy as np\n",
    "import taichi as ti\n",
    "ti.init(arch=ti.gpu, debug=False, device_memory_GB=3.5) # Use less than the VRAM on your device as to not mix RAM and VRAM\n",
    "import eikivp\n",
    "from eikivp.M2.vesselness import import_vesselness\n",
    "from eikivp.utils import cost_function\n",
    "from eikivp.M2.plus.distancemap import export_W\n",
    "from copy import deepcopy"
   ]
  },
  {
   "cell_type": "markdown",
   "metadata": {},
   "source": [
    "## Parameters"
   ]
  },
  {
   "cell_type": "code",
   "execution_count": null,
   "metadata": {},
   "outputs": [],
   "source": [
    "σ_s_list = np.array((0.5**3, 0.5)) # np.array((1.5, 2.))\n",
    "σ_o = 0.5 * 0.75**2\n",
    "σ_s_ext = 1.\n",
    "σ_o_ext = 0.01\n",
    "image_name = \"E46_OD_best\"\n",
    "image_file_name = f\"data\\{image_name}.tif\"\n",
    "V_params = {\n",
    "    \"σ_s_list\": σ_s_list,\n",
    "    \"σ_o\": σ_o,\n",
    "    \"σ_s_ext\": σ_s_ext,\n",
    "    \"σ_o_ext\": σ_o_ext,\n",
    "    \"image_name\": image_name \n",
    "}"
   ]
  },
  {
   "cell_type": "code",
   "execution_count": null,
   "metadata": {},
   "outputs": [],
   "source": [
    "V = import_vesselness(V_params, \"storage\\\\vesselness\")\n",
    "dim_I, dim_J, dim_K = V.shape"
   ]
  },
  {
   "cell_type": "code",
   "execution_count": null,
   "metadata": {},
   "outputs": [],
   "source": [
    "Is, Js, Ks = np.indices((dim_I, dim_J, dim_K))\n",
    "a = 13 / 21\n",
    "c = np.cos(np.pi/3)\n",
    "x_min, x_max = -0.866, 0.866\n",
    "y_min, y_max = -0.866, 0.866\n",
    "θ_min, θ_max = 0., 2 * np.pi\n",
    "dxy = (x_max - x_min) / (dim_I - 1)\n",
    "dθ = (θ_max - θ_min) / dim_K\n",
    "xs, ys, θs = eikivp.M2.utils.coordinate_array_to_real(Is, Js, Ks, x_min, y_min, θ_min, dxy, dθ)"
   ]
  },
  {
   "cell_type": "code",
   "execution_count": null,
   "metadata": {},
   "outputs": [],
   "source": [
    "λ = 500\n",
    "p = 2\n",
    "ξ = 4.\n",
    "source_point_real_W2 = (0.177528, 0.159588, 2.37002)\n",
    "source_point_real = eikivp.W2.utils.Π_forward_np(*source_point_real_W2, a, c)\n",
    "source_point = eikivp.M2.utils.coordinate_real_to_array(*source_point_real, x_min, y_min, θ_min, dxy, dθ)\n",
    "W_params = deepcopy(V_params)\n",
    "W_params[\"λ\"] = λ\n",
    "W_params[\"p\"] = p\n",
    "W_params[\"ξ\"] = ξ\n",
    "W_params[\"source_point\"] = source_point\n",
    "W_params[\"target_point\"] = \"default\"\n",
    "W_params[\"cost_domain\"] = \"M2\""
   ]
  },
  {
   "cell_type": "code",
   "execution_count": null,
   "metadata": {},
   "outputs": [],
   "source": [
    "target_point_real_W2 = (-0.721357, 0.218753, 2.65495)\n",
    "target_point_real = eikivp.W2.utils.Π_forward_np(*target_point_real_W2, a, c)\n",
    "target_point = eikivp.M2.utils.coordinate_real_to_array(*target_point_real, x_min, y_min, θ_min, dxy, dθ)"
   ]
  },
  {
   "cell_type": "code",
   "execution_count": null,
   "metadata": {},
   "outputs": [],
   "source": [
    "C = cost_function(V, λ, p)"
   ]
  },
  {
   "cell_type": "code",
   "execution_count": null,
   "metadata": {},
   "outputs": [],
   "source": [
    "fig, ax, _ = eikivp.visualisations.plot_image_array(C.min(-1), x_min, x_max, y_min, y_max)\n",
    "ax.scatter(*source_point_real[:-1], label=\"Source\")\n",
    "ax.arrow(*source_point_real[:-1], 0.1 * np.cos(θs[source_point]), 0.1 * np.sin(θs[source_point]), width=0.01)\n",
    "ax.scatter(*target_point_real[:-1], label=\"Target\")\n",
    "ax.arrow(*target_point_real[:-1], 0.1 * np.cos(θs[target_point]), 0.1 * np.sin(θs[target_point]), width=0.01)\n",
    "ax.legend();"
   ]
  },
  {
   "cell_type": "markdown",
   "metadata": {},
   "source": [
    "## Compute Distance Map"
   ]
  },
  {
   "cell_type": "code",
   "execution_count": null,
   "metadata": {},
   "outputs": [],
   "source": [
    "W, grad_W = eikivp.eikonal_solver_M2_plus(C, source_point, ξ, dxy, dθ, θs, target_point=target_point, n_max=1e4, n_max_initialisation=1e4, n_check=2e3, n_check_initialisation=2e3, tol=1e-3, initial_condition=200.)"
   ]
  },
  {
   "cell_type": "code",
   "execution_count": null,
   "metadata": {},
   "outputs": [],
   "source": [
    "fig, ax, _ = eikivp.visualisations.plot_image_array(C.min(-1), x_min, x_max, y_min, y_max, figsize=(12, 10))\n",
    "max_distance = W[target_point] * 2.5\n",
    "_, _, contour = eikivp.visualisations.plot_contour(W.min(-1), xs[..., 0], ys[..., 0], fig=fig, ax=ax, levels=np.linspace(0., max_distance, 5))\n",
    "ax.scatter(*source_point_real[:-1], label=\"Source\")\n",
    "ax.scatter(*target_point_real[:-1], label=\"Target\")\n",
    "ax.set_aspect(\"equal\")\n",
    "fig.colorbar(contour, label=\"$\\\\min_θ W(x, y, θ)$\")\n",
    "ax.legend();"
   ]
  },
  {
   "cell_type": "code",
   "execution_count": null,
   "metadata": {},
   "outputs": [],
   "source": [
    "export_W(W, grad_W, W_params, \"storage\\\\distance\")"
   ]
  }
 ],
 "metadata": {
  "kernelspec": {
   "display_name": "eikivp",
   "language": "python",
   "name": "python3"
  },
  "language_info": {
   "codemirror_mode": {
    "name": "ipython",
    "version": 3
   },
   "file_extension": ".py",
   "mimetype": "text/x-python",
   "name": "python",
   "nbconvert_exporter": "python",
   "pygments_lexer": "ipython3",
   "version": "3.10.16"
  }
 },
 "nbformat": 4,
 "nbformat_minor": 2
}
