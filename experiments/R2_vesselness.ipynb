{
 "cells": [
  {
   "cell_type": "code",
   "execution_count": null,
   "metadata": {},
   "outputs": [],
   "source": [
    "import numpy as np\n",
    "from PIL import Image\n",
    "import taichi as ti\n",
    "ti.init(arch=ti.cpu, debug=False)\n",
    "import eikivp\n",
    "from eikivp.R2.vesselness import vesselness, export_vesselness\n",
    "from eikivp.utils import cost_function\n",
    "import matplotlib.pyplot as plt"
   ]
  },
  {
   "cell_type": "markdown",
   "metadata": {},
   "source": [
    "# Parameters"
   ]
  },
  {
   "cell_type": "code",
   "execution_count": 8,
   "metadata": {},
   "outputs": [],
   "source": [
    "scales = np.array((0.125, 0.5), dtype=float)\n",
    "α = 0.5/np.sqrt(2)\n",
    "γ = 3/4\n",
    "ε = np.sqrt(0.2)\n",
    "λ = 1000\n",
    "p = 2\n",
    "image_name = \"E46_OD_best\"\n",
    "image_file_name = f\"data\\{image_name}.tif\"\n",
    "\n",
    "params = {\n",
    "    \"scales\": scales,\n",
    "    \"α\": α,\n",
    "    \"γ\": γ,\n",
    "    \"ε\": ε,\n",
    "    \"image_name\": image_name \n",
    "}"
   ]
  },
  {
   "cell_type": "markdown",
   "metadata": {},
   "source": [
    "# Preprocess Image"
   ]
  },
  {
   "cell_type": "code",
   "execution_count": null,
   "metadata": {},
   "outputs": [],
   "source": [
    "ds = 8\n",
    "retinal_image = Image.open(image_file_name)\n",
    "width, height = retinal_image.size\n",
    "retinal_image_gray_ds = retinal_image.resize((width // ds, height // ds)).convert(\"L\")\n",
    "retinal_array_unnormalised = np.array(retinal_image_gray_ds).astype(np.float64)\n",
    "retinal_array = eikivp.R2.utils.align_to_real_axis_scalar_field(eikivp.utils.image_rescale(retinal_array_unnormalised)) # So that +x is in the same direction as +I and +y is in the same direction as +J\n",
    "eikivp.visualisations.view_image_array(retinal_array);"
   ]
  },
  {
   "cell_type": "code",
   "execution_count": 10,
   "metadata": {},
   "outputs": [],
   "source": [
    "dim_I, dim_J = retinal_array.shape\n",
    "Is, Js = np.indices((dim_I, dim_J))\n",
    "dxy = 1.\n",
    "x_min = 0.\n",
    "y_min = 0.\n",
    "xs, ys = eikivp.R2.utils.coordinate_array_to_real(Is, Js, x_min, y_min, dxy)\n",
    "x_max = xs[-1, -1]\n",
    "y_max = ys[-1, -1]"
   ]
  },
  {
   "cell_type": "markdown",
   "metadata": {},
   "source": [
    "# Compute Vesselness"
   ]
  },
  {
   "cell_type": "code",
   "execution_count": null,
   "metadata": {},
   "outputs": [],
   "source": [
    "V = vesselness(retinal_array, scales, α, γ, ε)\n",
    "C = cost_function(V, λ, p)"
   ]
  },
  {
   "cell_type": "code",
   "execution_count": null,
   "metadata": {},
   "outputs": [],
   "source": [
    "fig, ax = plt.subplots(1, 2, figsize=(12, 5))\n",
    "_, _, cbar = eikivp.visualisations.plot_image_array(-V, x_min, x_max, y_min, y_max, fig=fig, ax=ax[0])\n",
    "fig.colorbar(cbar, ax=ax[0])\n",
    "_, _, cbar = eikivp.visualisations.plot_image_array(C, x_min, x_max, y_min, y_max, fig=fig, ax=ax[1])\n",
    "fig.colorbar(cbar, ax=ax[1]);"
   ]
  },
  {
   "cell_type": "code",
   "execution_count": null,
   "metadata": {},
   "outputs": [],
   "source": [
    "export_vesselness(V, params, \"storage\\\\vesselness\")"
   ]
  }
 ],
 "metadata": {
  "kernelspec": {
   "display_name": "eikivp",
   "language": "python",
   "name": "python3"
  },
  "language_info": {
   "codemirror_mode": {
    "name": "ipython",
    "version": 3
   },
   "file_extension": ".py",
   "mimetype": "text/x-python",
   "name": "python",
   "nbconvert_exporter": "python",
   "pygments_lexer": "ipython3",
   "version": "3.10.13"
  }
 },
 "nbformat": 4,
 "nbformat_minor": 2
}
