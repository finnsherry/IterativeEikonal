{
 "cells": [
  {
   "cell_type": "code",
   "execution_count": null,
   "metadata": {},
   "outputs": [],
   "source": [
    "import numpy as np\n",
    "import scipy as sp\n",
    "from PIL import Image\n",
    "import taichi as ti\n",
    "ti.init(arch=ti.cpu, debug=False)\n",
    "import eikivp\n",
    "from eikivp.M2.vesselness import multi_scale_vesselness, export_vesselness\n",
    "from eikivp.utils import cost_function\n",
    "import matplotlib.pyplot as plt"
   ]
  },
  {
   "cell_type": "markdown",
   "metadata": {},
   "source": [
    "# Parameters"
   ]
  },
  {
   "cell_type": "code",
   "execution_count": 2,
   "metadata": {},
   "outputs": [],
   "source": [
    "σ_s_list = np.array((0.5**3, 0.5)) # np.array((1.5, 2.))\n",
    "σ_o = 0.5 * 0.75**2\n",
    "σ_s_ext = 1.\n",
    "σ_o_ext = 0.01\n",
    "λ = 100\n",
    "p = 2\n",
    "image_name = \"E46_OD_best\"\n",
    "image_file_name = f\"data\\{image_name}.tif\"\n",
    "\n",
    "params = {\n",
    "    \"σ_s_list\": σ_s_list,\n",
    "    \"σ_o\": σ_o,\n",
    "    \"σ_s_ext\": σ_s_ext,\n",
    "    \"σ_o_ext\": σ_o_ext,\n",
    "    \"image_name\": image_name \n",
    "}"
   ]
  },
  {
   "cell_type": "markdown",
   "metadata": {},
   "source": [
    "# Preprocess Image"
   ]
  },
  {
   "cell_type": "code",
   "execution_count": null,
   "metadata": {},
   "outputs": [],
   "source": [
    "ds = 8\n",
    "retinal_image = Image.open(image_file_name)\n",
    "width, height = retinal_image.size\n",
    "retinal_image_gray_ds = retinal_image.resize((width // ds, height // ds)).convert(\"L\")\n",
    "retinal_array_unnormalised = np.array(retinal_image_gray_ds).astype(np.float64)\n",
    "retinal_array = eikivp.R2.utils.align_to_real_axis_scalar_field(eikivp.utils.image_rescale(retinal_array_unnormalised)) # So that +x is in the same direction as +I and +y is in the same direction as +J\n",
    "u = retinal_array - sp.ndimage.gaussian_filter(retinal_array, 16, truncate=2., mode=\"nearest\")\n",
    "# We need to rescale, but also in Mathematica imHP is no longer in [0, 1].\n",
    "eikivp.visualisations.view_image_array((u - u.min()) / (u.max() - u.min()));"
   ]
  },
  {
   "cell_type": "code",
   "execution_count": 4,
   "metadata": {},
   "outputs": [],
   "source": [
    "dim_I, dim_J = retinal_array.shape\n",
    "dim_K = 32\n",
    "Is, Js, Ks = np.indices((dim_I, dim_J, dim_K))\n",
    "dxy = 1.\n",
    "x_min, x_max = 0., dim_I - 1.\n",
    "y_min, y_max = 0., dim_J - 1.\n",
    "θ_min, θ_max = 0., 2. * np.pi\n",
    "dxy = (x_max - x_min) / (dim_I - 1)\n",
    "dθ = (θ_max - θ_min) / dim_K\n",
    "xs, ys, θs = eikivp.M2.utils.coordinate_array_to_real(Is, Js, Ks, x_min, y_min, θ_min, dxy, dθ)\n",
    "bifurcations_list = (\n",
    "    (58, 175),  (69, 184),  (141, 212), (135, 201), (149, 182), (124,153), \n",
    "    (110, 126), (86, 84),   (92, 91),   (143, 74),  (170, 129), (177,190), \n",
    "    (191, 276), (213, 296), (195, 298), (167, 285), (176, 259), (131, 294),\n",
    "    (95, 290),  (62, 229),  (97, 242),  (176, 303), (116, 329), (34, 352), \n",
    "    (41, 342),  (195, 178), (185, 120), (198, 32),  (219, 97),  (240, 84), \n",
    "    (232, 92),  (245, 127), (242, 128), (233, 133), (201, 185), (209, 186), \n",
    "    (186, 214), (189, 234), (232, 290), (184, 74),  (172, 46),  (320, 150), \n",
    "    (318, 169), (304, 169), (314, 219), (286, 192), (335,232),  (326, 181), \n",
    "    (343, 208), (335, 252), (307, 284), (345, 161), (355, 118), (373, 173), \n",
    "    (414, 133), (339, 278), (408, 335), (255,290),  (322, 375), (322, 421), \n",
    "    (297, 365), (262, 320), (268, 464), (290, 453), (337, 370), (310, 342), \n",
    "    (315, 342), (248, 345), (221,331),  (210, 338), (183, 376), (185, 341), \n",
    "    (337, 161), (384, 93),  (241, 318), (49, 312),  (49, 311),  (126, 207), \n",
    "    (142, 134), (159, 89),  (112, 58),  (279, 24),  (303, 129), (298, 132), \n",
    "    (273, 176), (269, 186), (284, 209), (287, 219), (272, 241), (282, 283), \n",
    "    (297, 275), (379,234),  (358, 246), (309, 48),  (268, 313), (326, 266)\n",
    ")\n",
    "bifurcations_list = None"
   ]
  },
  {
   "cell_type": "code",
   "execution_count": null,
   "metadata": {},
   "outputs": [],
   "source": [
    "cws = eikivp.orientationscore.cakewavelet_stack(dim_I, dim_K, inflection_point=0.8)\n",
    "U = np.transpose(eikivp.orientationscore.wavelet_transform(u, cws), axes=(1, 2, 0)).real # * dim_I / 2\n",
    "fig, ax, cbar = eikivp.visualisations.plot_image_array(U.sum(-1), x_min, x_max, y_min, y_max)\n",
    "fig.colorbar(cbar, ax=ax);"
   ]
  },
  {
   "cell_type": "markdown",
   "metadata": {},
   "source": [
    "# Compute Vesselness"
   ]
  },
  {
   "cell_type": "code",
   "execution_count": 6,
   "metadata": {},
   "outputs": [],
   "source": [
    "mask = retinal_array > 0.\n",
    "mask = sp.ndimage.binary_erosion(mask, iterations=int(np.ceil(σ_s_list.max() * 2)))\n",
    "mask = np.transpose(np.array([mask for _ in range(dim_K)], dtype=int), axes=(1, 2, 0))\n",
    "\n",
    "V = multi_scale_vesselness(U, mask, θs, σ_s_list, σ_o, σ_s_ext, σ_o_ext, dxy, dθ, bifurcations=bifurcations_list)\n",
    "C = cost_function(V, λ, p)"
   ]
  },
  {
   "cell_type": "code",
   "execution_count": null,
   "metadata": {},
   "outputs": [],
   "source": [
    "fig, ax = plt.subplots(1, 2, figsize=(12, 5))\n",
    "_, _, cbar = eikivp.visualisations.plot_image_array(-V.max(-1), x_min, x_max, y_min, y_max, fig=fig, ax=ax[0])\n",
    "fig.colorbar(cbar, ax=ax[0])\n",
    "_, _, cbar = eikivp.visualisations.plot_image_array(C.min(-1), x_min, x_max, y_min, y_max, fig=fig, ax=ax[1])\n",
    "fig.colorbar(cbar, ax=ax[1]);"
   ]
  },
  {
   "cell_type": "code",
   "execution_count": 8,
   "metadata": {},
   "outputs": [],
   "source": [
    "export_vesselness(V, params, \"storage\\\\vesselness\")"
   ]
  }
 ],
 "metadata": {
  "kernelspec": {
   "display_name": "eikivp",
   "language": "python",
   "name": "python3"
  },
  "language_info": {
   "codemirror_mode": {
    "name": "ipython",
    "version": 3
   },
   "file_extension": ".py",
   "mimetype": "text/x-python",
   "name": "python",
   "nbconvert_exporter": "python",
   "pygments_lexer": "ipython3",
   "version": "3.10.13"
  }
 },
 "nbformat": 4,
 "nbformat_minor": 2
}
